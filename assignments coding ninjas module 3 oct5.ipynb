{
 "cells": [
  {
   "cell_type": "code",
   "execution_count": 7,
   "id": "d243b458",
   "metadata": {},
   "outputs": [
    {
     "name": "stdout",
     "output_type": "stream",
     "text": [
      "4\n",
      "2\n",
      "1\n",
      "2.0\n"
     ]
    }
   ],
   "source": [
    "a=int(input())\n",
    "if a==1:\n",
    "    a1=int(input())\n",
    "    a2=int(input())\n",
    "    sum=a1+a2\n",
    "    print (sum)\n",
    "if a==2:\n",
    "    b1=int(input())\n",
    "    b2=int(input())\n",
    "    sub=b1-b2\n",
    "    print (sub)\n",
    "if a==3:\n",
    "    c1=int(input())\n",
    "    c2=int(input())\n",
    "    product=c1*c2\n",
    "    print (product)\n",
    "if a==4:\n",
    "    d1=int(input())\n",
    "    d2=int(input())\n",
    "    divide=d1/d2\n",
    "    print (divide)\n",
    "if a==5:\n",
    "    e1=int(input())\n",
    "    e2=int(input())\n",
    "    remainder=e1%e2\n",
    "    print (remainder)\n",
    "if a==6:\n",
    "    print(\"\")\n",
    "if a==7:\n",
    "    print(\"invalid operation\")"
   ]
  },
  {
   "cell_type": "code",
   "execution_count": 9,
   "id": "4bfda5d4",
   "metadata": {},
   "outputs": [
    {
     "name": "stdout",
     "output_type": "stream",
     "text": [
      "6\n"
     ]
    }
   ],
   "source": [
    "a=int(input())\n",
    "a!=6\n",
    "if a==1:\n",
    "    a1=int(input())\n",
    "    a2=int(input())\n",
    "    sum=a1+a2\n",
    "    print (sum)\n",
    "if a==2:\n",
    "    b1=int(input())\n",
    "    b2=int(input())\n",
    "    sub=b1-b2\n",
    "    print (sub)\n",
    "if a==3:\n",
    "    c1=int(input())\n",
    "    c2=int(input())\n",
    "    product=c1*c2\n",
    "    print (product)\n",
    "if a==4:\n",
    "    d1=int(input())\n",
    "    d2=int(input())\n",
    "    divide=d1//d2\n",
    "    print (divide)\n",
    "if a==5:\n",
    "    e1=int(input())\n",
    "    e2=int(input())\n",
    "    remainder=e1%e2\n",
    "    print (remainder)\n",
    "if a==6:\n",
    "    exit()\n",
    "else:\n",
    "    print(\"invalid operation\")"
   ]
  },
  {
   "cell_type": "code",
   "execution_count": 11,
   "id": "95731dd6",
   "metadata": {},
   "outputs": [
    {
     "ename": "IndentationError",
     "evalue": "unindent does not match any outer indentation level (<tokenize>, line 5)",
     "output_type": "error",
     "traceback": [
      "\u001b[1;36m  File \u001b[1;32m\"<tokenize>\"\u001b[1;36m, line \u001b[1;32m5\u001b[0m\n\u001b[1;33m    if a==1:\u001b[0m\n\u001b[1;37m    ^\u001b[0m\n\u001b[1;31mIndentationError\u001b[0m\u001b[1;31m:\u001b[0m unindent does not match any outer indentation level\n"
     ]
    }
   ],
   "source": [
    "a=int(input())\n",
    "while a!=6:\n",
    "     x=int(input())\n",
    "     y=int(input())\n",
    "    if a==1:\n",
    "        sum=x+y\n",
    "        print (sum)\n",
    "    \n",
    "    elif a==2:\n",
    "        sub=x-y\n",
    "        print (sub)\n",
    "    elif a==3:\n",
    "        product=x*y\n",
    "        print (product)\n",
    "    elif a==4:\n",
    "        divide=x//y\n",
    "        print (divide)\n",
    "    elif a==5:\n",
    "        remainder=x%y\n",
    "        print (remainder)\n",
    "    elif a==7:\n",
    "        print(\"invalid operation\")"
   ]
  },
  {
   "cell_type": "code",
   "execution_count": 1,
   "id": "810f7eaf",
   "metadata": {},
   "outputs": [
    {
     "name": "stdout",
     "output_type": "stream",
     "text": [
      "4\n",
      "2\n",
      "2\n",
      "1\n",
      "6\n",
      "4\n",
      "1\n"
     ]
    },
    {
     "ename": "KeyboardInterrupt",
     "evalue": "Interrupted by user",
     "output_type": "error",
     "traceback": [
      "\u001b[1;31m---------------------------------------------------------------------------\u001b[0m",
      "\u001b[1;31mKeyboardInterrupt\u001b[0m                         Traceback (most recent call last)",
      "\u001b[1;32mC:\\Users\\PKLAPI~1\\AppData\\Local\\Temp/ipykernel_4376/1963483895.py\u001b[0m in \u001b[0;36m<module>\u001b[1;34m\u001b[0m\n\u001b[0;32m      2\u001b[0m \u001b[1;32mwhile\u001b[0m \u001b[0ma\u001b[0m\u001b[1;33m!=\u001b[0m\u001b[1;36m6\u001b[0m\u001b[1;33m:\u001b[0m\u001b[1;33m\u001b[0m\u001b[1;33m\u001b[0m\u001b[0m\n\u001b[0;32m      3\u001b[0m \u001b[1;33m\u001b[0m\u001b[0m\n\u001b[1;32m----> 4\u001b[1;33m     \u001b[0mx\u001b[0m\u001b[1;33m=\u001b[0m\u001b[0mint\u001b[0m\u001b[1;33m(\u001b[0m\u001b[0minput\u001b[0m\u001b[1;33m(\u001b[0m\u001b[1;33m)\u001b[0m\u001b[1;33m)\u001b[0m\u001b[1;33m\u001b[0m\u001b[1;33m\u001b[0m\u001b[0m\n\u001b[0m\u001b[0;32m      5\u001b[0m     \u001b[0my\u001b[0m\u001b[1;33m=\u001b[0m\u001b[0mint\u001b[0m\u001b[1;33m(\u001b[0m\u001b[0minput\u001b[0m\u001b[1;33m(\u001b[0m\u001b[1;33m)\u001b[0m\u001b[1;33m)\u001b[0m\u001b[1;33m\u001b[0m\u001b[1;33m\u001b[0m\u001b[0m\n\u001b[0;32m      6\u001b[0m \u001b[1;33m\u001b[0m\u001b[0m\n",
      "\u001b[1;32mc:\\users\\pk lapi\\lib\\site-packages\\ipykernel\\kernelbase.py\u001b[0m in \u001b[0;36mraw_input\u001b[1;34m(self, prompt)\u001b[0m\n\u001b[0;32m   1004\u001b[0m                 \u001b[1;34m\"raw_input was called, but this frontend does not support input requests.\"\u001b[0m\u001b[1;33m\u001b[0m\u001b[1;33m\u001b[0m\u001b[0m\n\u001b[0;32m   1005\u001b[0m             )\n\u001b[1;32m-> 1006\u001b[1;33m         return self._input_request(\n\u001b[0m\u001b[0;32m   1007\u001b[0m             \u001b[0mstr\u001b[0m\u001b[1;33m(\u001b[0m\u001b[0mprompt\u001b[0m\u001b[1;33m)\u001b[0m\u001b[1;33m,\u001b[0m\u001b[1;33m\u001b[0m\u001b[1;33m\u001b[0m\u001b[0m\n\u001b[0;32m   1008\u001b[0m             \u001b[0mself\u001b[0m\u001b[1;33m.\u001b[0m\u001b[0m_parent_ident\u001b[0m\u001b[1;33m[\u001b[0m\u001b[1;34m\"shell\"\u001b[0m\u001b[1;33m]\u001b[0m\u001b[1;33m,\u001b[0m\u001b[1;33m\u001b[0m\u001b[1;33m\u001b[0m\u001b[0m\n",
      "\u001b[1;32mc:\\users\\pk lapi\\lib\\site-packages\\ipykernel\\kernelbase.py\u001b[0m in \u001b[0;36m_input_request\u001b[1;34m(self, prompt, ident, parent, password)\u001b[0m\n\u001b[0;32m   1049\u001b[0m             \u001b[1;32mexcept\u001b[0m \u001b[0mKeyboardInterrupt\u001b[0m\u001b[1;33m:\u001b[0m\u001b[1;33m\u001b[0m\u001b[1;33m\u001b[0m\u001b[0m\n\u001b[0;32m   1050\u001b[0m                 \u001b[1;31m# re-raise KeyboardInterrupt, to truncate traceback\u001b[0m\u001b[1;33m\u001b[0m\u001b[1;33m\u001b[0m\u001b[1;33m\u001b[0m\u001b[0m\n\u001b[1;32m-> 1051\u001b[1;33m                 \u001b[1;32mraise\u001b[0m \u001b[0mKeyboardInterrupt\u001b[0m\u001b[1;33m(\u001b[0m\u001b[1;34m\"Interrupted by user\"\u001b[0m\u001b[1;33m)\u001b[0m \u001b[1;32mfrom\u001b[0m \u001b[1;32mNone\u001b[0m\u001b[1;33m\u001b[0m\u001b[1;33m\u001b[0m\u001b[0m\n\u001b[0m\u001b[0;32m   1052\u001b[0m             \u001b[1;32mexcept\u001b[0m \u001b[0mException\u001b[0m\u001b[1;33m:\u001b[0m\u001b[1;33m\u001b[0m\u001b[1;33m\u001b[0m\u001b[0m\n\u001b[0;32m   1053\u001b[0m                 \u001b[0mself\u001b[0m\u001b[1;33m.\u001b[0m\u001b[0mlog\u001b[0m\u001b[1;33m.\u001b[0m\u001b[0mwarning\u001b[0m\u001b[1;33m(\u001b[0m\u001b[1;34m\"Invalid Message:\"\u001b[0m\u001b[1;33m,\u001b[0m \u001b[0mexc_info\u001b[0m\u001b[1;33m=\u001b[0m\u001b[1;32mTrue\u001b[0m\u001b[1;33m)\u001b[0m\u001b[1;33m\u001b[0m\u001b[1;33m\u001b[0m\u001b[0m\n",
      "\u001b[1;31mKeyboardInterrupt\u001b[0m: Interrupted by user"
     ]
    }
   ],
   "source": [
    "a=int(input())\n",
    "while a!=6:\n",
    "    \n",
    "    x=int(input())\n",
    "    y=int(input())\n",
    "    \n",
    "    if a==1:\n",
    "        sum=x+y\n",
    "        print (sum)\n",
    "    \n",
    "    elif a==2:\n",
    "        sub=x-y\n",
    "        print (sub)\n",
    "    elif a==3:\n",
    "        product=x*y\n",
    "        print (product)\n",
    "    elif a==4:\n",
    "        divide=x//y\n",
    "        print (divide)\n",
    "    elif a==5:\n",
    "        remainder=x%y\n",
    "        print (remainder)\n",
    "    else:\n",
    "        print(\"invalid operation\")\n",
    "\n",
    "if a==6:\n",
    "    exit()"
   ]
  },
  {
   "cell_type": "code",
   "execution_count": 2,
   "id": "42bad4c2",
   "metadata": {},
   "outputs": [
    {
     "name": "stdout",
     "output_type": "stream",
     "text": [
      "6\n"
     ]
    }
   ],
   "source": [
    "a=int(input())\n",
    "while a!=6:\n",
    "    \n",
    "    \n",
    "    if a==1:\n",
    "        x=int(input())\n",
    "        y=int(input())\n",
    "        sum=x+y\n",
    "        print (sum)\n",
    "    \n",
    "    elif a==2:\n",
    "        x=int(input())\n",
    "        y=int(input())\n",
    "        sub=x-y\n",
    "        print (sub)\n",
    "    elif a==3:\n",
    "        x=int(input())\n",
    "        y=int(input())\n",
    "        product=x*y\n",
    "        print (product)\n",
    "    elif a==4:\n",
    "        x=int(input())\n",
    "        y=int(input())\n",
    "        divide=x//y\n",
    "        print (divide)\n",
    "    elif a==5:\n",
    "        x=int(input())\n",
    "        y=int(input())\n",
    "        remainder=x%y\n",
    "        print (remainder)\n",
    "    else:\n",
    "        print(\"Invalid operation\")\n",
    "if a==6:\n",
    "    exit()"
   ]
  },
  {
   "cell_type": "code",
   "execution_count": null,
   "id": "e4ba8693",
   "metadata": {},
   "outputs": [],
   "source": [
    "while True:\n",
    "    \n",
    "    a=int(input())\n",
    "    if a==1:\n",
    "        x=int(input())\n",
    "        y=int(input())\n",
    "        print(x+y)\n",
    "    if a==2:\n",
    "        x=int(input())\n",
    "        y=int(input())\n",
    "        print (x-y)\n",
    "    if a==3:\n",
    "        x=int(input())\n",
    "        y=int(input())\n",
    "        print(x*y)\n",
    "    if a==4:\n",
    "        x=int(input())\n",
    "        y=int(input())\n",
    "        print (x//y)\n",
    "    if a==5:\n",
    "        x=int(input())\n",
    "        y=int(input())\n",
    "        print(x%y)\n",
    "    if a==6:\n",
    "        exit()\n",
    "    else:\n",
    "        print(\"invalid operation\")"
   ]
  },
  {
   "cell_type": "code",
   "execution_count": null,
   "id": "e50d4321",
   "metadata": {},
   "outputs": [],
   "source": [
    "a=int(input())\n",
    "while a!=6:\n",
    "\n",
    "    \n",
    "    if a==1:\n",
    "        x=int(input())\n",
    "        y=int(input())\n",
    "        sum=x+y\n",
    "        print (sum)\n",
    "    \n",
    "    elif a==2:\n",
    "        x=int(input())\n",
    "        y=int(input())\n",
    "        sub=x-y\n",
    "        print (sub)\n",
    "    elif a==3:\n",
    "        x=int(input())\n",
    "        y=int(input())\n",
    "        product=x*y\n",
    "        print (product)\n",
    "    elif a==4:\n",
    "        x=int(input())\n",
    "        y=int(input())\n",
    "        divide=x//y\n",
    "        print (divide)\n",
    "    elif a==5:\n",
    "        x=int(input())\n",
    "        y=int(input())\n",
    "        remainder=x%y\n",
    "        print (remainder)\n",
    "    else:\n",
    "        print(\"Invalid operation\")\n",
    "if a==6:\n",
    "        exit()\n",
    "\n",
    "    "
   ]
  },
  {
   "cell_type": "code",
   "execution_count": null,
   "id": "52752d3f",
   "metadata": {},
   "outputs": [],
   "source": []
  }
 ],
 "metadata": {
  "kernelspec": {
   "display_name": "Python 3 (ipykernel)",
   "language": "python",
   "name": "python3"
  },
  "language_info": {
   "codemirror_mode": {
    "name": "ipython",
    "version": 3
   },
   "file_extension": ".py",
   "mimetype": "text/x-python",
   "name": "python",
   "nbconvert_exporter": "python",
   "pygments_lexer": "ipython3",
   "version": "3.9.5"
  }
 },
 "nbformat": 4,
 "nbformat_minor": 5
}
